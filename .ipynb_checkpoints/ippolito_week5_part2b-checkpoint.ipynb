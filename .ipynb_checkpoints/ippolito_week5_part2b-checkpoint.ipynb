{
 "cells": [
  {
   "cell_type": "markdown",
   "id": "e381eb91-5108-47fa-b9e1-5ca559a7a0ce",
   "metadata": {},
   "source": [
    "### DATA620 - Week5, Part 2\n",
    "#### Michael Ippolito\n",
    "6/30/2022"
   ]
  },
  {
   "cell_type": "markdown",
   "id": "c1602eb0-e8cb-42cf-8b36-ac80129cf66b",
   "metadata": {
    "tags": []
   },
   "source": [
    "It can be useful to be able to classify new \"test\" documents using already classified \"training\" documents.  A common example is using a corpus of labeled spam and ham (non-spam) e-mails to predict whether or not a new document is spam.  Here is one example of such data:  UCI Machine Learning Repository: Spambase Data Set\n",
    "For this project, you can either use the above dataset to predict the class of new documents (either withheld from the training dataset or from another source such as your own spam folder).\n",
    "For more adventurous students, you are welcome (encouraged!) to come up a different set of documents (including scraped web pages!?) that have already been classified (e.g. tagged), then analyze these documents to predict how new documents should be classified.\n",
    "\n",
    "This assignment is due end of day on Sunday.\n",
    "\n",
    "NOTE: This is a two week assignment."
   ]
  },
  {
   "cell_type": "markdown",
   "id": "8a0933dc-dbc0-435c-9fb0-c8bb4880801a",
   "metadata": {},
   "source": [
    "### Oveview\n",
    "\n",
    "For this assignment, I used a set of documents downloaded from https://github.com/t-davidson/hate-speech-and-offensive-language. The documents are labeled as either containing hate speech, offensive language, or neither. I built a Naive Bayes model to classify the documents, paritioning the set into training and test folds, then assessed the model to evaluate its performance.\n"
   ]
  },
  {
   "cell_type": "markdown",
   "id": "64096232-12f9-4ed6-b2a2-43fada962ffc",
   "metadata": {},
   "source": [
    "### Link to video presentation\n",
    "\n",
    "[Video](https://github.com/mmippolito/cuny_data620_week5_part2/blob/main/ippolito_video.mp4?raw=true)"
   ]
  },
  {
   "cell_type": "code",
   "execution_count": 1,
   "id": "5e00e0c1-0fea-4cce-9a68-0af39756d90b",
   "metadata": {},
   "outputs": [],
   "source": [
    "# Load libraries\n",
    "import matplotlib.pyplot as plt\n",
    "import csv\n",
    "import os\n",
    "import requests\n",
    "import numpy as np\n",
    "from scipy import stats\n",
    "import pandas as pd\n",
    "from collections import Counter\n",
    "import plotly.express as px\n",
    "import plotly.io as pio\n",
    "from nltk.corpus import names\n",
    "from nltk.classify import apply_features\n",
    "from nltk.metrics import ConfusionMatrix, precision, recall\n",
    "import nltk\n",
    "import random\n",
    "import math\n",
    "import collections\n",
    "\n",
    "# Set module options\n",
    "pio.renderers.default = 'jupyterlab'    # Set ploty renderer so graphs show up in HTML output\n",
    "pd.set_option('display.width', 160)    # Set pandas display options\n"
   ]
  },
  {
   "cell_type": "markdown",
   "id": "58603737-dca9-4071-a600-46c069bc4c31",
   "metadata": {},
   "source": [
    "### Fetch Data\n",
    "\n",
    "First, fetch the data from github if it already isn't on the local drive.\n"
   ]
  },
  {
   "cell_type": "code",
   "execution_count": 2,
   "id": "09912b09-84a9-4054-a143-c34b591af385",
   "metadata": {},
   "outputs": [
    {
     "name": "stdout",
     "output_type": "stream",
     "text": [
      "CSV already exists on disk\n"
     ]
    }
   ],
   "source": [
    "# Fetch data from github; source: https://github.com/t-davidson/hate-speech-and-offensive-language\n",
    "\n",
    "# Fetch data from github repo and store in current directory\n",
    "def fetch_data(fn, url):\n",
    "    if not os.path.exists('hate_speech_labeled_data.csv'):\n",
    "        print('Downloading', fn)\n",
    "        try:\n",
    "            r = requests.get(url).text\n",
    "            fh = open(fn, 'w', encoding='utf-8')\n",
    "            fh.write(r)\n",
    "            fh.close()\n",
    "        except:\n",
    "            return 1\n",
    "    else:\n",
    "        print('CSV already exists on disk')\n",
    "    return 0\n",
    "\n",
    "# Fetch data\n",
    "fn = 'hate_speech_labeled_data.csv'\n",
    "url = 'https://github.com/t-davidson/hate-speech-and-offensive-language/blob/master/data/labeled_data.csv?raw=true'\n",
    "err = fetch_data(fn, url)\n",
    "if err > 0:\n",
    "    assert(False, 'An error occured trying to download or save the csv.')\n",
    "\n",
    "# Load csv into pandas dataframe\n",
    "df1 = pd.read_csv(fn)\n",
    "\n",
    "# Convert labels to text\n",
    "df1.loc[df1['class'] == 0, 'label'] = 'hate_speech'\n",
    "df1.loc[df1['class'] == 1, 'label'] = 'offensive_language'\n",
    "df1.loc[df1['class'] == 2, 'label'] = 'neither'\n"
   ]
  },
  {
   "cell_type": "markdown",
   "id": "8b1d38b3-97b0-49f6-9d48-6f68722895b7",
   "metadata": {},
   "source": [
    "Readme from github repo (https://github.com/t-davidson/hate-speech-and-offensive-language):\n",
    "\n",
    "The data are stored as a CSV and as a pickled pandas dataframe (Python 2.7). Each data file contains 5 columns:\n",
    "* count = number of CrowdFlower users who coded each tweet (min is 3, sometimes more users coded a tweet when judgments were determined to be unreliable by CF).\n",
    "* hate_speech = number of CF users who judged the tweet to be hate speech.\n",
    "* offensive_language = number of CF users who judged the tweet to be offensive.\n",
    "* neither = number of CF users who judged the tweet to be neither offensive nor non-offensive.\n",
    "* class = class label for majority of CF users. 0 - hate speech 1 - offensive language 2 - neither\n"
   ]
  },
  {
   "cell_type": "markdown",
   "id": "0ef121fc-3b28-4810-a15a-a744b6d1391c",
   "metadata": {},
   "source": [
    "### Exploratory Data Analysis\n",
    "\n",
    "Perform exploratory data analysis.\n"
   ]
  },
  {
   "cell_type": "code",
   "execution_count": 3,
   "id": "5f70ad5e-df1d-44f6-b030-569c6f9b2976",
   "metadata": {},
   "outputs": [
    {
     "name": "stdout",
     "output_type": "stream",
     "text": [
      "Column info:\n",
      "<class 'pandas.core.frame.DataFrame'>\n",
      "RangeIndex: 24783 entries, 0 to 24782\n",
      "Data columns (total 8 columns):\n",
      " #   Column              Non-Null Count  Dtype \n",
      "---  ------              --------------  ----- \n",
      " 0   Unnamed: 0          24783 non-null  int64 \n",
      " 1   count               24783 non-null  int64 \n",
      " 2   hate_speech         24783 non-null  int64 \n",
      " 3   offensive_language  24783 non-null  int64 \n",
      " 4   neither             24783 non-null  int64 \n",
      " 5   class               24783 non-null  int64 \n",
      " 6   tweet               24783 non-null  object\n",
      " 7   label               24783 non-null  object\n",
      "dtypes: int64(6), object(2)\n",
      "memory usage: 1.5+ MB\n",
      "None\n",
      "\n",
      "Summary stats:\n",
      "         Unnamed: 0         count   hate_speech  offensive_language       neither         class\n",
      "count  24783.000000  24783.000000  24783.000000        24783.000000  24783.000000  24783.000000\n",
      "mean   12681.192027      3.243473      0.280515            2.413711      0.549247      1.110277\n",
      "std     7299.553863      0.883060      0.631851            1.399459      1.113299      0.462089\n",
      "min        0.000000      3.000000      0.000000            0.000000      0.000000      0.000000\n",
      "25%     6372.500000      3.000000      0.000000            2.000000      0.000000      1.000000\n",
      "50%    12703.000000      3.000000      0.000000            3.000000      0.000000      1.000000\n",
      "75%    18995.500000      3.000000      0.000000            3.000000      0.000000      1.000000\n",
      "max    25296.000000      9.000000      7.000000            9.000000      9.000000      2.000000\n",
      "\n",
      "First few observations:\n",
      "   Unnamed: 0  count  hate_speech  offensive_language  neither  class                                              tweet               label\n",
      "0           0      3            0                   0        3      2  !!! RT @mayasolovely: As a woman you shouldn't...             neither\n",
      "1           1      3            0                   3        0      1  !!!!! RT @mleew17: boy dats cold...tyga dwn ba...  offensive_language\n",
      "2           2      3            0                   3        0      1  !!!!!!! RT @UrKindOfBrand Dawg!!!! RT @80sbaby...  offensive_language\n",
      "3           3      3            0                   2        1      1  !!!!!!!!! RT @C_G_Anderson: @viva_based she lo...  offensive_language\n",
      "4           4      6            0                   6        0      1  !!!!!!!!!!!!! RT @ShenikaRoberts: The shit you...  offensive_language\n",
      "\n"
     ]
    },
    {
     "data": {
      "image/png": "[encoded data removed]",
      "text/plain": [
       "<Figure size 432x288 with 1 Axes>"
      ]
     },
     "metadata": {
      "needs_background": "light"
     },
     "output_type": "display_data"
    }
   ],
   "source": [
    "# EDA\n",
    "\n",
    "# Display info about the data\n",
    "print('Column info:')\n",
    "print(df1.info())\n",
    "print()\n",
    "print('Summary stats:')\n",
    "print(df1.describe())\n",
    "print()\n",
    "print('First few observations:')\n",
    "print(df1.head())\n",
    "\n",
    "# Bar chart of labeled classes\n",
    "dfgrp = df1.groupby(['label'], as_index=False).count()\n",
    "print()\n",
    "plt.bar(x=dfgrp['label'], height=dfgrp['count'])\n",
    "plt.xlabel('Label')\n",
    "plt.ylabel('Count')\n",
    "plt.title('Count of labeled classes')\n",
    "plt.show()\n"
   ]
  },
  {
   "cell_type": "markdown",
   "id": "7fb90981-534b-402c-926c-10cccf5484ca",
   "metadata": {},
   "source": [
    "As illustrated by the bar chart, the data is unbalanced heavily in favour of offensive language. This indicates that accuracy will most likely not be the best measure of model performance, and/or that either oversampling or understampling might be in order. In this case, we don't want to lose any data, so we'll reject undersampling of the majority class. And to avoid overfitting, we'll also reject oversampling the minority classes. Instead, we'll use alternate metrics (precision, recall, F1-score).\n"
   ]
  },
  {
   "cell_type": "markdown",
   "id": "f5fc01c2-d7a3-4861-b9de-9ef9a013ffff",
   "metadata": {},
   "source": [
    "### Create Corpus\n",
    "\n",
    "Create a corpus, i.e. an array of documents, which will be a list of tuples containing the text of the tweet and the corresponding label for that text. Then we'll tokenize the corpus using a naive approach, i.e. a simple word tokenizer using NLTK's built-in word_tokenize function.\n"
   ]
  },
  {
   "cell_type": "code",
   "execution_count": 4,
   "id": "79f7f467-257d-4ae3-b31f-88bdb69deb72",
   "metadata": {},
   "outputs": [
    {
     "name": "stdout",
     "output_type": "stream",
     "text": [
      "First few documents:\n"
     ]
    },
    {
     "data": {
      "text/html": [
       "<div>\n",
       "<style scoped>\n",
       "    .dataframe tbody tr th:only-of-type {\n",
       "        vertical-align: middle;\n",
       "    }\n",
       "\n",
       "    .dataframe tbody tr th {\n",
       "        vertical-align: top;\n",
       "    }\n",
       "\n",
       "    .dataframe thead th {\n",
       "        text-align: right;\n",
       "    }\n",
       "</style>\n",
       "<table border=\"1\" class=\"dataframe\">\n",
       "  <thead>\n",
       "    <tr style=\"text-align: right;\">\n",
       "      <th></th>\n",
       "      <th>0</th>\n",
       "      <th>1</th>\n",
       "    </tr>\n",
       "  </thead>\n",
       "  <tbody>\n",
       "    <tr>\n",
       "      <th>0</th>\n",
       "      <td>[.@AussieGrit, loves, Austin:, http://t.co/HTt...</td>\n",
       "      <td>neither</td>\n",
       "    </tr>\n",
       "    <tr>\n",
       "      <th>1</th>\n",
       "      <td>[I'm, about, to, push, this, niggah, off, my, ...</td>\n",
       "      <td>offensive_language</td>\n",
       "    </tr>\n",
       "    <tr>\n",
       "      <th>2</th>\n",
       "      <td>[@_BeverlyNoHills, you, so, fucking, nasty., Y...</td>\n",
       "      <td>offensive_language</td>\n",
       "    </tr>\n",
       "    <tr>\n",
       "      <th>3</th>\n",
       "      <td>[That's, Ya, BM, tho, RT, @Tyga:, That, ain't,...</td>\n",
       "      <td>offensive_language</td>\n",
       "    </tr>\n",
       "    <tr>\n",
       "      <th>4</th>\n",
       "      <td>[Bad, bitches, and, good, weed]</td>\n",
       "      <td>offensive_language</td>\n",
       "    </tr>\n",
       "  </tbody>\n",
       "</table>\n",
       "</div>"
      ],
      "text/plain": [
       "                                                   0                   1\n",
       "0  [.@AussieGrit, loves, Austin:, http://t.co/HTt...             neither\n",
       "1  [I'm, about, to, push, this, niggah, off, my, ...  offensive_language\n",
       "2  [@_BeverlyNoHills, you, so, fucking, nasty., Y...  offensive_language\n",
       "3  [That's, Ya, BM, tho, RT, @Tyga:, That, ain't,...  offensive_language\n",
       "4                    [Bad, bitches, and, good, weed]  offensive_language"
      ]
     },
     "metadata": {},
     "output_type": "display_data"
    }
   ],
   "source": [
    "# Create document array, which will be a list of tuples (text, label)\n",
    "labels = list(df1['label'])\n",
    "texts = list(df1['tweet'])\n",
    "documents = []\n",
    "for i, text in enumerate(texts):\n",
    "    documents.append((text.split(), labels[i]))\n",
    "random.shuffle(documents)\n",
    "print('First few documents:')\n",
    "display(pd.DataFrame(documents[:5]))\n"
   ]
  },
  {
   "cell_type": "code",
   "execution_count": 5,
   "id": "6f5a27dc-81ab-49e4-b8e1-18c500475b4a",
   "metadata": {},
   "outputs": [],
   "source": [
    "# Tokenize; we'll use a naive approach and use a simple tokenizer.\n",
    "# This takes a while, so keep it within its own code block.\n",
    "tokens = nltk.word_tokenize(' '.join(texts))\n"
   ]
  },
  {
   "cell_type": "markdown",
   "id": "83718fa2-26c3-4b55-9aff-b26261443a4a",
   "metadata": {},
   "source": [
    "### Feature extraction\n",
    "\n",
    "Next, we'll extract the features from each document. For the feature set, we'll use the top 2,000 most frequently used words.\n"
   ]
  },
  {
   "cell_type": "code",
   "execution_count": 22,
   "id": "5c637fc1-0a13-436c-ae5b-98aec8d0b658",
   "metadata": {},
   "outputs": [
    {
     "data": {
      "image/png": "[encoded data removed]",
      "text/plain": [
       "<Figure size 432x288 with 1 Axes>"
      ]
     },
     "metadata": {
      "needs_background": "light"
     },
     "output_type": "display_data"
    }
   ],
   "source": [
    "# Generate a list of the most frequent 2000 words\n",
    "all_words = nltk.FreqDist(w.lower() for w in tokens)\n",
    "word_features = list(all_words)[:2000]\n",
    "\n",
    "# Create list of top 20 most frequent words; reverse it for the bar graph\n",
    "x = [word for word in list(word_features)[:20]]\n",
    "y = [all_words.freq(word) for word in x]\n",
    "x.reverse()\n",
    "y.reverse()\n",
    "\n",
    "# Bar graph\n",
    "plt.barh(width=y, y=x)\n",
    "plt.xlabel('Relative frequency')\n",
    "plt.ylabel('Word')\n",
    "plt.title('Relative frequencies of top 20 most frequent words')\n",
    "plt.show()\n"
   ]
  },
  {
   "cell_type": "code",
   "execution_count": 23,
   "id": "821f745e-d640-4fe8-8540-67e89bb81b67",
   "metadata": {},
   "outputs": [],
   "source": [
    "# Define function to generate document features\n",
    "def document_features(document):\n",
    "    document_words = set(document)\n",
    "    features = {}\n",
    "    for word in word_features:\n",
    "        features['contains({})'.format(word)] = (word in document_words)\n",
    "    return features\n"
   ]
  },
  {
   "cell_type": "code",
   "execution_count": 24,
   "id": "143e701f-f511-43f5-999c-d493bbf3fe30",
   "metadata": {},
   "outputs": [],
   "source": [
    "# Create featuresets for each document\n",
    "featuresets = [(document_features(d), c) for (d, c) in documents]\n"
   ]
  },
  {
   "cell_type": "markdown",
   "id": "9f56e8f9-9550-415e-bf3c-0ef17ea18329",
   "metadata": {},
   "source": [
    "### Model Training\n",
    "\n",
    "Partition the data into 70% training data, 30% test data. Then train the model using a naive Bayes classifier.\n"
   ]
  },
  {
   "cell_type": "code",
   "execution_count": 25,
   "id": "7e6d2fc3-fc37-46ae-9240-193592757c75",
   "metadata": {},
   "outputs": [
    {
     "name": "stdout",
     "output_type": "stream",
     "text": [
      "Training docs: 17348\n",
      "Test docs: 7435\n"
     ]
    }
   ],
   "source": [
    "# Partition data into training and test sets\n",
    "train_pct = 0.7\n",
    "train_doc_ct = int(len(documents) * train_pct)\n",
    "train_set, test_set = featuresets[train_doc_ct:], featuresets[:train_doc_ct]\n",
    "print('Training docs:', train_doc_ct)\n",
    "print('Test docs:', len(documents) - train_doc_ct)\n"
   ]
  },
  {
   "cell_type": "code",
   "execution_count": 26,
   "id": "d27a7822-05bb-4ee8-9ac4-8a7c1edf7a85",
   "metadata": {},
   "outputs": [],
   "source": [
    "# Train the model\n",
    "classifier = nltk.NaiveBayesClassifier.train(train_set)\n"
   ]
  },
  {
   "cell_type": "code",
   "execution_count": 27,
   "id": "91d2b97b-018d-4057-a43d-9ad7a32a8056",
   "metadata": {},
   "outputs": [
    {
     "name": "stdout",
     "output_type": "stream",
     "text": [
      "0.8381369610329721\n",
      "Most Informative Features\n",
      "         contains(bitch) = True           offens : neithe =     74.1 : 1.0\n",
      "         contains(pussy) = True           offens : neithe =     64.1 : 1.0\n",
      "          contains(shit) = True           offens : neithe =     40.0 : 1.0\n",
      "      contains(brownies) = True           neithe : offens =     38.6 : 1.0\n",
      "          contains(hoes) = True           offens : neithe =     33.5 : 1.0\n"
     ]
    }
   ],
   "source": [
    "# Print out accuracy for reference, even though we'll use a different set of metrics to actually evaluate the model\n",
    "print(nltk.classify.accuracy(classifier, test_set))\n",
    "classifier.show_most_informative_features(5)\n"
   ]
  },
  {
   "cell_type": "markdown",
   "id": "25598176-d1e8-44de-8400-85df15b2464a",
   "metadata": {},
   "source": [
    "### Evaluate Test Set\n",
    "\n",
    "Evaluate the test set by comparing reference labels against predicted labels. Precision, recall, and F1 scores were calculated for each label. A confusion matrix had to be generated manually because of an error in the NLTK ConfusionMatrix function.\n"
   ]
  },
  {
   "cell_type": "code",
   "execution_count": 28,
   "id": "74890307-8005-411f-9027-885a8711a98d",
   "metadata": {},
   "outputs": [],
   "source": [
    "# Evaluate test data\n",
    "\n",
    "# Create empty reference and test sets\n",
    "refsets = {}\n",
    "testsets = {}\n",
    "for label in list(dfgrp['label']):\n",
    "    refsets[label] = set()\n",
    "    testsets[label] = set()\n",
    "\n",
    "# Populate reference and test sets with reference and predicted labels\n",
    "for i, (feats, label) in enumerate(test_set):\n",
    "    refsets[label].add(i)\n",
    "    observed = classifier.classify(feats)\n",
    "    testsets[observed].add(i)\n"
   ]
  },
  {
   "cell_type": "code",
   "execution_count": 29,
   "id": "4fa78e68-2011-47ad-969b-53f7636df9f7",
   "metadata": {},
   "outputs": [
    {
     "name": "stdout",
     "output_type": "stream",
     "text": [
      "hate_speech:\n",
      "\tprecision=0.3230088495575221\n",
      "\trecall=0.14762386248736098\n",
      "\tf1-score=0.20263705759888967\n",
      "neither:\n",
      "\tprecision=0.7207425343018563\n",
      "\trecall=0.6078965282505105\n",
      "\tf1-score=0.6595273264401773\n",
      "offensive_language:\n",
      "\tprecision=0.8744624774587322\n",
      "\trecall=0.9394232918560464\n",
      "\tf1-score=0.9057796616257768\n",
      "\n",
      "Confusion matrix:\n",
      "Actual values in rows ['hate_speech', 'neither', 'offensive_language']\n",
      "Predicted values in columns ['hate_speech', 'neither', 'offensive_language']\n",
      "[[  146   126   717]\n",
      " [   59  1786  1093]\n",
      " [  247   566 12608]]\n",
      "\n",
      "Geometric mean of F! scores: 0.49468044560670515\n"
     ]
    }
   ],
   "source": [
    "# model metrics\n",
    "\n",
    "# Show precision and recall\n",
    "f1_scores = []\n",
    "for label in list(dfgrp['label']):\n",
    "    print(label + ':')\n",
    "    p1 = precision(refsets[label], testsets[label])\n",
    "    r1 = recall(refsets[label], testsets[label])\n",
    "    f1 = 2 / ((1/p1) + (1/r1))\n",
    "    f1_scores.append(f1)\n",
    "    print('\\tprecision=' + str(p1))\n",
    "    print('\\trecall=' + str(r1))\n",
    "    print('\\tf1-score=' + str(f1))\n",
    "print()\n",
    "\n",
    "# Generate confusion matrix (the nltk ConfusionMatrix function generated an error, so I had to do this manually)\n",
    "row = []\n",
    "for label1 in refsets:\n",
    "    col = []\n",
    "    for label2 in testsets:\n",
    "        ct = len(list(set(refsets[label1]) & set(testsets[label2])))    # find intersection of the two sets\n",
    "        col.append(ct)\n",
    "    row.append(col)\n",
    "cm = np.matrix(row)\n",
    "print('Confusion matrix:')\n",
    "print('Actual values in rows ' + str([label for label in list(dfgrp['label'])]))\n",
    "print('Predicted values in columns ' + str([label for label in list(dfgrp['label'])]))\n",
    "print(cm)\n",
    "print()\n",
    "\n",
    "# Find geometric mean of F1 scores\n",
    "ttl = 1\n",
    "for f1 in f1_scores:\n",
    "    ttl *= f1\n",
    "f1_geom_mean = ttl ** (1 / len(f1_scores))\n",
    "print('Geometric mean of F1 scores:', f1_geom_mean)\n"
   ]
  },
  {
   "cell_type": "markdown",
   "id": "6110f615-e86a-48e8-8293-f4844fb6099f",
   "metadata": {},
   "source": [
    "### Analysis and Conclusions\n",
    "\n",
    "Based on the results, the model performed rather poorly at classifying hate speech, with only an F1 score of 0.203. Documents labeled \"neither\" fared a little better, with an F1 score of 0.660. The model performed the best at classifying offensive language, with an F1 score of 0.906. Overall, the geometric mean of the F1 scores was 0.495, indicating a relatively poor fit.\n",
    "\n",
    "I made further attempts to improve the score by trying to oversample the minority classes, but the model performed slighly worse. The best improvement seemed to arise from increasing the number of features used; I tried 500, then 1000, 2000, which produced incrementally higher F1 scores. I also attempted to snip off the top several hundred terms, thinking that these terms would appear across all document categories. I also tried tokenizing by not only unigrams but by bigrams. But none outperformed the simpler model that blindly used the top most frequently used unigrams.\n",
    "\n",
    "This indicates that there is enough ambiguity in what might be considered hate speech that it would be difficult for ML to discern it without further investigation. Because these samples were classified rather arbitrarily by end users rather than against a more rigid, codified standard, it isn't surprising that any attempt to model the data would yield tepid results.\n",
    "\n",
    "From the confusion matrix, we see in the first row that the model often misclassifed hate speech as offensive language. Similarly, language that is neither hate speech nor offensive language was misclassified, further confirming that there is a lot of ambiguity around what constitues either of these types of language.\n",
    "\n",
    "Further investigation might include removing stopwords, punctuation, or other markers that might be reducing the model's performance. Network analysis of the users who composed the tweets could also yield more accurate results, based on who the users' connections are.\n"
   ]
  }
 ],
 "metadata": {
  "kernelspec": {
   "display_name": "Python 3 (ipykernel)",
   "language": "python",
   "name": "python3"
  },
  "language_info": {
   "codemirror_mode": {
    "name": "ipython",
    "version": 3
   },
   "file_extension": ".py",
   "mimetype": "text/x-python",
   "name": "python",
   "nbconvert_exporter": "python",
   "pygments_lexer": "ipython3",
   "version": "3.9.12"
  }
 },
 "nbformat": 4,
 "nbformat_minor": 5
}
